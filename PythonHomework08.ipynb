{
  "nbformat": 4,
  "nbformat_minor": 0,
  "metadata": {
    "colab": {
      "provenance": [],
      "authorship_tag": "ABX9TyO+svqarx3aAGSwh+ocNwE3",
      "include_colab_link": true
    },
    "kernelspec": {
      "name": "python3",
      "display_name": "Python 3"
    },
    "language_info": {
      "name": "python"
    }
  },
  "cells": [
    {
      "cell_type": "markdown",
      "metadata": {
        "id": "view-in-github",
        "colab_type": "text"
      },
      "source": [
        "<a href=\"https://colab.research.google.com/github/SheriffLucifer/01-UdemyJSPractice-variable-declaration/blob/main/PythonHomework08.ipynb\" target=\"_parent\"><img src=\"https://colab.research.google.com/assets/colab-badge.svg\" alt=\"Open In Colab\"/></a>"
      ]
    },
    {
      "cell_type": "code",
      "execution_count": 17,
      "metadata": {
        "colab": {
          "base_uri": "https://localhost:8080/"
        },
        "id": "UqgZvs-S4Wu3",
        "outputId": "8d41b1f5-53ee-40cb-9860-45dca0c4e424"
      },
      "outputs": [
        {
          "output_type": "stream",
          "name": "stdout",
          "text": [
            "id  human  robot\n",
            "0       0      1\n",
            "1       0      1\n",
            "2       1      0\n",
            "3       1      0\n",
            "4       1      0\n",
            "5       0      1\n",
            "6       0      1\n",
            "7       1      0\n",
            "8       1      0\n",
            "9       1      0\n",
            "10      0      1\n",
            "11      0      1\n",
            "12      1      0\n",
            "13      1      0\n",
            "14      0      1\n",
            "15      0      1\n",
            "16      1      0\n",
            "17      1      0\n",
            "18      0      1\n",
            "19      0      1\n"
          ]
        }
      ],
      "source": [
        "import pandas as pd\n",
        "import random\n",
        "lst = ['robot'] * 10\n",
        "lst += ['human'] * 10\n",
        "random.shuffle(lst)\n",
        "data = pd.DataFrame(random.sample(['robot', 'human']*10, 20), columns={'whoAmI':lst})\n",
        "\n",
        "\n",
        "data['tmp'] = 1\n",
        "data.set_index([data.index, 'whoAmI'], inplace=True)\n",
        "data = data.unstack(level=-1, fill_value = 0).astype(int)\n",
        "data.columns = data.columns.droplevel()\n",
        "data.columns.name = 'id'\n",
        "print(data)"
      ]
    }
  ]
}